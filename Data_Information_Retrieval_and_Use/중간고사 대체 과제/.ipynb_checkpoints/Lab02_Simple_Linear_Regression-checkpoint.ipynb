{
 "cells": [
  {
   "cell_type": "code",
   "execution_count": 1,
   "metadata": {},
   "outputs": [],
   "source": [
    "import tensorflow as tf    # tensorflow를 import하고, 이름을 tf로 지정 \n",
    "import numpy as np    # numpy를 import하고, 이름을 np로 지정\n",
    "import matplotlib.pyplot as plt    # matplotlib 라이브러리의 pyplot 모듈을 import하고, 이름을 plt로 지정\n",
    "\n",
    "tf.enable_eager_execution()    # 즉시 실행(Eager Execution) 모드로 변경(그래프 기반 모드에서 즉시 실행 모드로 변경)"
   ]
  },
  {
   "cell_type": "code",
   "execution_count": 2,
   "metadata": {},
   "outputs": [],
   "source": [
    "x_data = [1, 2, 3, 4, 5]    # x_data 정의\n",
    "y_data = [1, 2, 3, 4, 5]    # y_data 정의"
   ]
  },
  {
   "cell_type": "code",
   "execution_count": 3,
   "metadata": {},
   "outputs": [
    {
     "data": {
      "text/plain": [
       "(0, 8)"
      ]
     },
     "execution_count": 3,
     "metadata": {},
     "output_type": "execute_result"
    },
    {
     "data": {
      "image/png": "[encoded data removed]",
      "text/plain": [
       "<Figure size 432x288 with 1 Axes>"
      ]
     },
     "metadata": {
      "needs_background": "light"
     },
     "output_type": "display_data"
    }
   ],
   "source": [
    "plt.plot(x_data, y_data, 'o')    # (x_data, y_data)에 대응하는 좌표값들을 그리고, 점(작은 원)으로 표현\n",
    "plt.ylim(0, 8)    # y축의 범위를 설정(0~8)"
   ]
  },
  {
   "cell_type": "code",
   "execution_count": 4,
   "metadata": {},
   "outputs": [
    {
     "data": {
      "text/plain": [
       "<tf.Tensor: id=6, shape=(), dtype=float32, numpy=2.5>"
      ]
     },
     "execution_count": 4,
     "metadata": {},
     "output_type": "execute_result"
    }
   ],
   "source": [
    "v =[1., 2., 3., 4.]    # v list를 정의(reduce_mean함수를 테스트하기 위한)\n",
    "tf.reduce_mean(v)    # v list의 element 평균을 계산"
   ]
  },
  {
   "cell_type": "code",
   "execution_count": 5,
   "metadata": {},
   "outputs": [
    {
     "data": {
      "text/plain": [
       "<tf.Tensor: id=9, shape=(), dtype=int32, numpy=9>"
      ]
     },
     "execution_count": 5,
     "metadata": {},
     "output_type": "execute_result"
    }
   ],
   "source": [
    "tf.square(3)    # 3의 제곱을 계산"
   ]
  },
  {
   "cell_type": "code",
   "execution_count": 6,
   "metadata": {},
   "outputs": [
    {
     "name": "stdout",
     "output_type": "stream",
     "text": [
      "WARNING:tensorflow:From C:\\Users\\park\\Anaconda3\\lib\\site-packages\\tensorflow\\python\\ops\\resource_variable_ops.py:642: colocate_with (from tensorflow.python.framework.ops) is deprecated and will be removed in a future version.\n",
      "Instructions for updating:\n",
      "Colocations handled automatically by placer.\n"
     ]
    }
   ],
   "source": [
    "x_data = [1, 2, 3, 4, 5]    # x_data 정의\n",
    "y_data = [1, 2, 3, 4, 5]    # y_data 정의\n",
    "\n",
    "W = tf.Variable(2.0)    # W 값을 정의하기 위해 tf.Variable을 생성, 2.0을 노드에 삽입\n",
    "b = tf.Variable(0.5)    # b 값을 정의하기 위해 tf.Variable을 생성, 0.5를 노드에 삽입\n",
    "\n",
    "hypothesis = W * x_data + b    # hypothesis(가설)을 정의 : W(weight) * x_data + b(bias)"
   ]
  },
  {
   "cell_type": "code",
   "execution_count": 7,
   "metadata": {},
   "outputs": [
    {
     "data": {
      "text/plain": [
       "(2.0, 0.5)"
      ]
     },
     "execution_count": 7,
     "metadata": {},
     "output_type": "execute_result"
    }
   ],
   "source": [
    "W.numpy(), b.numpy()    # W 노드에 삽입된 데이터를 출력, b 노드에 삽입된 데이터를 출력"
   ]
  },
  {
   "cell_type": "code",
   "execution_count": 8,
   "metadata": {},
   "outputs": [
    {
     "data": {
      "text/plain": [
       "array([ 2.5,  4.5,  6.5,  8.5, 10.5], dtype=float32)"
      ]
     },
     "execution_count": 8,
     "metadata": {},
     "output_type": "execute_result"
    }
   ],
   "source": [
    "hypothesis.numpy()    # hypothesis 노드에 삽입된 데이터를 출력(2.0 * [1, 2, 3, 4, 5] + 0.5, broadcasting 발생)"
   ]
  },
  {
   "cell_type": "code",
   "execution_count": 9,
   "metadata": {},
   "outputs": [
    {
     "data": {
      "image/png": "[encoded data removed]",
      "text/plain": [
       "<Figure size 432x288 with 1 Axes>"
      ]
     },
     "metadata": {
      "needs_background": "light"
     },
     "output_type": "display_data"
    }
   ],
   "source": [
    "plt.plot(x_data, hypothesis.numpy(), 'r-')    # (x_data, hypothesis.numpy())에 대응하는 좌표값들을\n",
    "                                              # 그리고, 직선으로 표현\n",
    "plt.plot(x_data, y_data, 'o')    # (x_data, y_data)에 대응하는 좌표값들을 그리고, 점(작은 원)으로 표현\n",
    "plt.ylim(0, 8)    # y축의 범위를 설정(0~8)\n",
    "plt.show()    # 그림을 출력(Jupyter Notebook을 사용하기 때문에 plt.show() 없이 그림이 출력되는 상황)"
   ]
  },
  {
   "cell_type": "code",
   "execution_count": 10,
   "metadata": {},
   "outputs": [],
   "source": [
    "cost = tf.reduce_mean(tf.square(hypothesis - y_data))    # cost function 정의 : (1/m) * ∑(i=1~m) (H(xi)-(yi))^2"
   ]
  },
  {
   "cell_type": "code",
   "execution_count": 11,
   "metadata": {},
   "outputs": [
    {
     "data": {
      "text/plain": [
       "(25.0, 7.0)"
      ]
     },
     "execution_count": 11,
     "metadata": {},
     "output_type": "execute_result"
    }
   ],
   "source": [
    "with tf.GradientTape() as tape:    # with 범위 내 variable들의 변화를 tape에 기록 (여기서는 W와 b가 해당)\n",
    "    hypothesis = W * x_data + b    # hypothesis(가설)을 정의 : W(weight) * x_data + b(bias)\n",
    "    cost = tf.reduce_mean(tf.square(hypothesis - y_data))    # cost function 정의 : (1/m) * ∑(i=1~m) (H(xi)-(yi))^2\n",
    "\n",
    "W_grad, b_grad = tape.gradient(cost, [W, b])    # gradient 함수가 cost function을 W, b에 대하여\n",
    "                                                # 미분한 값을 tuple 형태로 반환 반환된 값을 W_grad, b_grad가 참조 \n",
    "                                                # tape.gradient(GradientTape.gradient) 호출 직후\n",
    "                                                # tape(GradientTape)에포함된 리소스는 해제됨\n",
    "W_grad.numpy(), b_grad.numpy()    # W_grad 노드에 삽입된 데이터를 출력, b_grad 노드에 삽입된 데이터를 출력"
   ]
  },
  {
   "cell_type": "code",
   "execution_count": 12,
   "metadata": {},
   "outputs": [
    {
     "data": {
      "text/plain": [
       "(1.75, 0.43)"
      ]
     },
     "execution_count": 12,
     "metadata": {},
     "output_type": "execute_result"
    }
   ],
   "source": [
    "learning_rate = 0.01    # learning_rate를 0.01로 설정\n",
    "\n",
    "W.assign_sub(learning_rate * W_grad)    # W = W - 0.01 * W_grad\n",
    "b.assign_sub(learning_rate * b_grad)    # b = b - 0.01 * b_grad\n",
    "\n",
    "W.numpy(), b.numpy()    # W 노드에 삽입된 데이터를 출력, b 노드에 삽입된 데이터를 출력"
   ]
  },
  {
   "cell_type": "code",
   "execution_count": 13,
   "metadata": {},
   "outputs": [
    {
     "data": {
      "text/plain": [
       "(0, 8)"
      ]
     },
     "execution_count": 13,
     "metadata": {},
     "output_type": "execute_result"
    },
    {
     "data": {
      "image/png": "[encoded data removed]",
      "text/plain": [
       "<Figure size 432x288 with 1 Axes>"
      ]
     },
     "metadata": {
      "needs_background": "light"
     },
     "output_type": "display_data"
    }
   ],
   "source": [
    "plt.plot(x_data, hypothesis.numpy(), 'r-')    # (x_data, hypothesis.numpy())에 대응하는 좌표값들을\n",
    "                                              # 그리고, 직선으로 표현\n",
    "plt.plot(x_data, y_data, 'o')    # (x_data, y_data)에 대응하는 좌표값들을 그리고, 점(작은 원)으로 표현\n",
    "plt.ylim(0, 8)    # y축의 범위를 설정(0~8)"
   ]
  },
  {
   "cell_type": "code",
   "execution_count": 14,
   "metadata": {
    "scrolled": true
   },
   "outputs": [
    {
     "name": "stdout",
     "output_type": "stream",
     "text": [
      "    0|    2.4520|    0.3760| 45.660004\n",
      "   10|    1.1036|    0.0034|  0.206336\n",
      "   20|    1.0128|   -0.0209|  0.001026\n",
      "   30|    1.0065|   -0.0218|  0.000093\n",
      "   40|    1.0059|   -0.0212|  0.000083\n",
      "   50|    1.0057|   -0.0205|  0.000077\n",
      "   60|    1.0055|   -0.0198|  0.000072\n",
      "   70|    1.0053|   -0.0192|  0.000067\n",
      "   80|    1.0051|   -0.0185|  0.000063\n",
      "   90|    1.0050|   -0.0179|  0.000059\n"
     ]
    },
    {
     "data": {
      "text/plain": [
       "(0, 8)"
      ]
     },
     "execution_count": 14,
     "metadata": {},
     "output_type": "execute_result"
    },
    {
     "data": {
      "image/png": "[encoded data removed]",
      "text/plain": [
       "<Figure size 432x288 with 1 Axes>"
      ]
     },
     "metadata": {
      "needs_background": "light"
     },
     "output_type": "display_data"
    }
   ],
   "source": [
    "W = tf.Variable(2.9)    # W 값을 정의하기 위해 tf.Variable을 생성, 2.9를 노드에 삽입\n",
    "b = tf.Variable(0.5)    # b 값을 정의하기 위해 tf.Variable을 생성, 0.5를 노드에 삽입\n",
    "\n",
    "for i in range(100):    # 100회 시행\n",
    "    with tf.GradientTape() as tape:    # with 범위 내 variable들의 변화를 tape에 기록 (여기서는 W와 b가 해당)\n",
    "        hypothesis = W * x_data + b    # hypothesis(가설)을 정의 : W(weight) * x_data + b(bias)\n",
    "        cost = tf.reduce_mean(tf.square(hypothesis - y_data))    \n",
    "                                                    # cost function 정의 : (1/m) * ∑(i=1~m) (H(xi)-(yi))^2\n",
    "    W_grad, b_grad = tape.gradient(cost, [W, b])    # gradient 함수가 cost function을 W, b에 대하여\n",
    "                                                    # 미분한 값을 tuple 형태로 반환\n",
    "                                                    # 반환된 값을 W_grad, b_grad가 참조\n",
    "                                                    # tape.gradient(GradientTape.gradient) 호출 직후,\n",
    "                                                    # tape(GradientTape)에 포함된 리소스는 해제됨\n",
    "    W.assign_sub(learning_rate * W_grad)    # W = W - learning_rate * W_grad\n",
    "    b.assign_sub(learning_rate * b_grad)    # b = b - learning_rate * b_grad\n",
    "                                            # (learning_rate는 위에 0.01로 정의되어있음.)\n",
    "    if i % 10 == 0:    # 10회마다\n",
    "        # i 값(step), W(weight) 값, b(bias) 값, cost function 값 출력\n",
    "        print(\"{:5}|{:10.4f}|{:10.4f}|{:10.6f}\".format(i, W.numpy(), b.numpy(), cost))\n",
    "\n",
    "plt.plot(x_data, y_data, 'o')    # (x_data, y_data)에 대응하는 좌표값들을 그리고, 점(작은 원)으로 표현\n",
    "plt.plot(x_data, hypothesis.numpy(), 'r-')    # (x_data, hypothesis.numpy())에 대응하는\n",
    "                                              # 좌표값들을 그리고, 직선으로 표현\n",
    "plt.ylim(0, 8)    # y축의 범위를 설정(0~8)"
   ]
  },
  {
   "cell_type": "code",
   "execution_count": 15,
   "metadata": {},
   "outputs": [
    {
     "name": "stdout",
     "output_type": "stream",
     "text": [
      "tf.Tensor(5.0066934, shape=(), dtype=float32)\n",
      "tf.Tensor(2.4946523, shape=(), dtype=float32)\n"
     ]
    }
   ],
   "source": [
    "print(W * 5 + b)    # W * 5 + b 값을 출력\n",
    "print(W * 2.5 + b)    # W * 2.5 + b 값을 출력"
   ]
  },
  {
   "cell_type": "code",
   "execution_count": null,
   "metadata": {},
   "outputs": [],
   "source": []
  }
 ],
 "metadata": {
  "kernelspec": {
   "display_name": "Python 3",
   "language": "python",
   "name": "python3"
  },
  "language_info": {
   "codemirror_mode": {
    "name": "ipython",
    "version": 3
   },
   "file_extension": ".py",
   "mimetype": "text/x-python",
   "name": "python",
   "nbconvert_exporter": "python",
   "pygments_lexer": "ipython3",
   "version": "3.7.3"
  }
 },
 "nbformat": 4,
 "nbformat_minor": 2
}
