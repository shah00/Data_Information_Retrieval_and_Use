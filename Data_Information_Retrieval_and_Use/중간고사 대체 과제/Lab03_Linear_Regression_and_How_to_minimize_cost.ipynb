{
 "cells": [
  {
   "cell_type": "code",
   "execution_count": 1,
   "metadata": {},
   "outputs": [
    {
     "data": {
      "text/plain": [
       "'1.13.1'"
      ]
     },
     "execution_count": 1,
     "metadata": {},
     "output_type": "execute_result"
    }
   ],
   "source": [
    "import tensorflow as tf    # tensorflow를 import하고, 이름을 tf로 지정 \n",
    "import numpy as np    # numpy를 import하고, 이름을 np로 지정\n",
    "import matplotlib.pyplot as plt    # matplotlib 라이브러리의 pyplot 모듈을 import하고, 이름을 plt로 지정\n",
    "\n",
    "tf.enable_eager_execution()    # 즉시 실행(Eager Execution) 모드로 변경(그래프 기반 모드에서 즉시 실행 모드로 변경)\n",
    "tf.__version__   # tensorflow version check"
   ]
  },
  {
   "cell_type": "code",
   "execution_count": 2,
   "metadata": {},
   "outputs": [],
   "source": [
    "X = np.array([1, 2, 3])    # X 정의\n",
    "Y = np.array([1, 2, 3])    # Y 정의"
   ]
  },
  {
   "cell_type": "code",
   "execution_count": 3,
   "metadata": {},
   "outputs": [
    {
     "name": "stdout",
     "output_type": "stream",
     "text": [
      "-3.000 |   74.66667\n",
      "-2.429 |   54.85714\n",
      "-1.857 |   38.09524\n",
      "-1.286 |   24.38095\n",
      "-0.714 |   13.71429\n",
      "-0.143 |    6.09524\n",
      " 0.429 |    1.52381\n",
      " 1.000 |    0.00000\n",
      " 1.571 |    1.52381\n",
      " 2.143 |    6.09524\n",
      " 2.714 |   13.71429\n",
      " 3.286 |   24.38095\n",
      " 3.857 |   38.09524\n",
      " 4.429 |   54.85714\n",
      " 5.000 |   74.66667\n"
     ]
    }
   ],
   "source": [
    "def cost_func(W, X, Y):    # cost_func 함수 정의\n",
    "    c = 0    # c를 0으로 초기화\n",
    "    for i in range(len(X)):    # X의 element 개수 만큼 반복\n",
    "        c += (W * X[i] - Y[i]) ** 2    # c = c + (W * X[i] - Y[i])^2.    ∑(i=1~m) (H(xi)-(yi))^2 과 동일\n",
    "    return c / len(X)    # cost function value (c / len(X)) return.    (1/m) * ∑(i=1~m) (H(xi)-(yi))^2 과 동일\n",
    "\n",
    "for feed_W in np.linspace(-3, 5, num=15):    # np.linspace(-3, 5, num=15)는 [-3, 5] 에서\n",
    "                                             # 동일한 간격의 15개 숫자들을 element로 갖는 \n",
    "                                             # narray 반환. feed_W는 각 np.linspace(-3, 5, num=15)의\n",
    "                                             # element를 순차적으로 참조 \n",
    "    curr_cost = cost_func(feed_W, X, Y)    # feed_W에 따른 cost function을 curr_cost가 참조\n",
    "    print(\"{:6.3f} | {:10.5f}\".format(feed_W, curr_cost))    # feed_W(weight), curr_cost(cost function) 값 출력 "
   ]
  },
  {
   "cell_type": "code",
   "execution_count": 4,
   "metadata": {},
   "outputs": [
    {
     "name": "stdout",
     "output_type": "stream",
     "text": [
      "-3.000 |   74.66667\n",
      "-2.429 |   54.85714\n",
      "-1.857 |   38.09524\n",
      "-1.286 |   24.38095\n",
      "-0.714 |   13.71429\n",
      "-0.143 |    6.09524\n",
      " 0.429 |    1.52381\n",
      " 1.000 |    0.00000\n",
      " 1.571 |    1.52381\n",
      " 2.143 |    6.09524\n",
      " 2.714 |   13.71429\n",
      " 3.286 |   24.38095\n",
      " 3.857 |   38.09524\n",
      " 4.429 |   54.85714\n",
      " 5.000 |   74.66667\n"
     ]
    }
   ],
   "source": [
    "# 위의 함수(Pure Python Code)와 동일한 이름의 함수이므로, tensorflow를 이용한 함수의 이름을 변경하였습니다.\n",
    "def cost_func_use_tf(W, X, Y):    # cost_func_use_tf 함수 정의\n",
    "    hypothesis = X * W    # hypothesis(가설)을 정의 : W(weight) * X\n",
    "    return tf.reduce_mean(tf.square(hypothesis - Y))    # cost function 정의 : (1/m) * ∑(i=1~m) (H(xi)-(yi))^2\n",
    "\n",
    "W_values = np.linspace(-3, 5, num=15)    # np.linspace(-3, 5, num=15)는 [-3, 5] 에서 동일한 간격의 15개 숫자들을\n",
    "                                         # element로 갖는 narray 반환. W_values가 이를 참조\n",
    "cost_values = []    # cost_values 생성(빈 리스트)\n",
    "\n",
    "for feed_W in W_values:    # W_values의 element를 순차적으로 feed_W가 참조\n",
    "    curr_cost = cost_func_use_tf(feed_W, X, Y)    # feed_W에 따른 cost function을 curr_cost가 참조\n",
    "    cost_values.append(curr_cost)    # curr_cost값을 cost_values에 append\n",
    "    print(\"{:6.3f} | {:10.5f}\".format(feed_W, curr_cost))    # feed_W(weight), curr_cost(cost function) 값 출력 "
   ]
  },
  {
   "cell_type": "code",
   "execution_count": 5,
   "metadata": {},
   "outputs": [],
   "source": [
    "plt.rcParams[\"figure.figsize\"] = (8,6)    # \"figure.figsize\" : 그래프의 가로, 세로 크기를 설정\n",
    "                                          # rcParams를 통해서 그래프의 크기와 선의 색, 두께 등을 설정 가능"
   ]
  },
  {
   "cell_type": "code",
   "execution_count": 6,
   "metadata": {},
   "outputs": [
    {
     "data": {
      "image/png": "[encoded data removed]",
      "text/plain": [
       "<Figure size 576x432 with 1 Axes>"
      ]
     },
     "metadata": {
      "needs_background": "light"
     },
     "output_type": "display_data"
    }
   ],
   "source": [
    "plt.plot(W_values, cost_values, \"b\")    # (W_values, cost_values)에 대응하는 좌표값들을\n",
    "                                        # 그리고, 곡선을 파란색으로 표현\n",
    "plt.ylabel('Cost(W)')    # y축의 label을 Cost(W)로 설정\n",
    "plt.xlabel('W')    # x축의 label을 W로 설정\n",
    "plt.show()    # 그림을 출력(Jupyter Notebook을 사용하기 때문에 ptl.show() 없이 그림이 출력되는 상황)"
   ]
  },
  {
   "cell_type": "code",
   "execution_count": 7,
   "metadata": {},
   "outputs": [],
   "source": [
    "tf.set_random_seed(0)  # 그래프 level의 난수 seed를 설정\n",
    "\n",
    "x_data = [1., 2., 3., 4.]    # x_data 정의 \n",
    "y_data = [1., 3., 5., 7.]    # y_data 정의"
   ]
  },
  {
   "cell_type": "code",
   "execution_count": 8,
   "metadata": {},
   "outputs": [
    {
     "name": "stdout",
     "output_type": "stream",
     "text": [
      "WARNING:tensorflow:From C:\\Users\\park\\Anaconda3\\lib\\site-packages\\tensorflow\\python\\ops\\resource_variable_ops.py:642: colocate_with (from tensorflow.python.framework.ops) is deprecated and will be removed in a future version.\n",
      "Instructions for updating:\n",
      "Colocations handled automatically by placer.\n",
      "    0 | 11716.3086 |  48.767971\n",
      "   10 |  4504.9126 |  30.619968\n",
      "   20 |  1732.1364 |  19.366755\n",
      "   30 |   666.0052 |  12.388859\n",
      "   40 |   256.0785 |   8.062004\n",
      "   50 |    98.4620 |   5.379007\n",
      "   60 |    37.8586 |   3.715335\n",
      "   70 |    14.5566 |   2.683725\n",
      "   80 |     5.5970 |   2.044044\n",
      "   90 |     2.1520 |   1.647391\n",
      "  100 |     0.8275 |   1.401434\n",
      "  110 |     0.3182 |   1.248922\n",
      "  120 |     0.1223 |   1.154351\n",
      "  130 |     0.0470 |   1.095710\n",
      "  140 |     0.0181 |   1.059348\n",
      "  150 |     0.0070 |   1.036801\n",
      "  160 |     0.0027 |   1.022819\n",
      "  170 |     0.0010 |   1.014150\n",
      "  180 |     0.0004 |   1.008774\n",
      "  190 |     0.0002 |   1.005441\n",
      "  200 |     0.0001 |   1.003374\n",
      "  210 |     0.0000 |   1.002092\n",
      "  220 |     0.0000 |   1.001297\n",
      "  230 |     0.0000 |   1.000804\n",
      "  240 |     0.0000 |   1.000499\n",
      "  250 |     0.0000 |   1.000309\n",
      "  260 |     0.0000 |   1.000192\n",
      "  270 |     0.0000 |   1.000119\n",
      "  280 |     0.0000 |   1.000074\n",
      "  290 |     0.0000 |   1.000046\n"
     ]
    }
   ],
   "source": [
    "W = tf.Variable(tf.random_normal([1], -100., 100.))    # 정규분포를 따르는 random number\n",
    "                                                       # (shape=(1,))를 생성, W가 참조\n",
    "\n",
    "for step in range(300):    # 300회 시행\n",
    "    hypothesis = W * X    # hypothesis(가설)을 정의 : W(weight) * X\n",
    "    cost = tf.reduce_mean(tf.square(hypothesis - Y))    # cost function 정의 : (1/m) * ∑(i=1~m) (H(xi)-(yi))^2\n",
    "\n",
    "    alpha = 0.01    # alpha를 0.01로 설정\n",
    "    gradient = tf.reduce_mean(tf.multiply(tf.multiply(W, X) - Y, X))\n",
    "                                                        # gradient = (1/m) * ∑(i=1~m) (H(xi)-(yi)) * (xi)\n",
    "    descent = W - tf.multiply(alpha, gradient)    # descent = W - 0.01 * (1/m) * ∑(i=1~m) (H(xi)-(yi)) * (xi)\n",
    "    W.assign(descent)    # W 갱신(W에 descent 대입)\n",
    "    \n",
    "    if step % 10 == 0:    # 10회마다\n",
    "        # i 값(step), cost function 값, W(weight) 값 출력\n",
    "        print('{:5} | {:10.4f} | {:10.6f}'.format(\n",
    "            step, cost.numpy(), W.numpy()[0]))"
   ]
  },
  {
   "cell_type": "code",
   "execution_count": 9,
   "metadata": {},
   "outputs": [
    {
     "name": "stdout",
     "output_type": "stream",
     "text": [
      "tf.Tensor([5.0001483], shape=(1,), dtype=float32)\n",
      "tf.Tensor([2.5000741], shape=(1,), dtype=float32)\n"
     ]
    }
   ],
   "source": [
    "print(5.0 * W)    # W * 5.0 값을 출력\n",
    "print(2.5 * W)    # W * 2.5 값을 출력"
   ]
  },
  {
   "cell_type": "code",
   "execution_count": 10,
   "metadata": {},
   "outputs": [
    {
     "name": "stdout",
     "output_type": "stream",
     "text": [
      "    0 |    74.6667 |   4.813334\n",
      "   10 |    28.7093 |   3.364572\n",
      "   20 |    11.0387 |   2.466224\n",
      "   30 |     4.2444 |   1.909177\n",
      "   40 |     1.6320 |   1.563762\n",
      "   50 |     0.6275 |   1.349578\n",
      "   60 |     0.2413 |   1.216766\n",
      "   70 |     0.0928 |   1.134412\n",
      "   80 |     0.0357 |   1.083346\n",
      "   90 |     0.0137 |   1.051681\n",
      "  100 |     0.0053 |   1.032047\n",
      "  110 |     0.0020 |   1.019871\n",
      "  120 |     0.0008 |   1.012322\n",
      "  130 |     0.0003 |   1.007641\n",
      "  140 |     0.0001 |   1.004738\n",
      "  150 |     0.0000 |   1.002938\n",
      "  160 |     0.0000 |   1.001822\n",
      "  170 |     0.0000 |   1.001130\n",
      "  180 |     0.0000 |   1.000700\n",
      "  190 |     0.0000 |   1.000434\n",
      "  200 |     0.0000 |   1.000269\n",
      "  210 |     0.0000 |   1.000167\n",
      "  220 |     0.0000 |   1.000103\n",
      "  230 |     0.0000 |   1.000064\n",
      "  240 |     0.0000 |   1.000040\n",
      "  250 |     0.0000 |   1.000025\n",
      "  260 |     0.0000 |   1.000015\n",
      "  270 |     0.0000 |   1.000009\n",
      "  280 |     0.0000 |   1.000006\n",
      "  290 |     0.0000 |   1.000004\n"
     ]
    }
   ],
   "source": [
    "W = tf.Variable([5.0])    # W 값을 정의하기 위해 tf.Variable을 생성, [5.0]을 노드에 삽입, shape=(1,)\n",
    "\n",
    "for step in range(300):    # 300회 시행\n",
    "    hypothesis = W * X    # hypothesis(가설)을 정의 : W(weight) * X\n",
    "    cost = tf.reduce_mean(tf.square(hypothesis - Y))    # cost function 정의 : (1/m) * ∑(i=1~m) (H(xi)-(yi))^2\n",
    "\n",
    "    alpha = 0.01    # alpha를 0.01로 설정\n",
    "    gradient = tf.reduce_mean(tf.multiply(tf.multiply(W, X) - Y, X))    \n",
    "                                                        # gradient = (1/m) * ∑(i=1~m) (H(xi)-(yi)) * (xi)\n",
    "    descent = W - tf.multiply(alpha, gradient)    # descent = W - 0.01 * (1/m) * ∑(i=1~m) (H(xi)-(yi)) * (xi)\n",
    "    W.assign(descent)    # W 갱신(W에 descent 대입)\n",
    "\n",
    "    if step % 10 == 0:    # 10회마다\n",
    "        # i 값(step), cost function 값, W(weight) 값 출력\n",
    "        print('{:5} | {:10.4f} | {:10.6f}'.format(\n",
    "            step, cost.numpy(), W.numpy()[0]))"
   ]
  },
  {
   "cell_type": "code",
   "execution_count": null,
   "metadata": {},
   "outputs": [],
   "source": []
  }
 ],
 "metadata": {
  "kernelspec": {
   "display_name": "Python 3",
   "language": "python",
   "name": "python3"
  },
  "language_info": {
   "codemirror_mode": {
    "name": "ipython",
    "version": 3
   },
   "file_extension": ".py",
   "mimetype": "text/x-python",
   "name": "python",
   "nbconvert_exporter": "python",
   "pygments_lexer": "ipython3",
   "version": "3.7.3"
  }
 },
 "nbformat": 4,
 "nbformat_minor": 2
}
